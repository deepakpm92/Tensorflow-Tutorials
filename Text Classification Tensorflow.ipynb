{
 "cells": [
  {
   "cell_type": "code",
   "execution_count": 1,
   "metadata": {},
   "outputs": [
    {
     "name": "stderr",
     "output_type": "stream",
     "text": [
      "C:\\Users\\d.padmanabhan.menon\\AppData\\Local\\Continuum\\anaconda3\\lib\\site-packages\\h5py\\__init__.py:36: FutureWarning: Conversion of the second argument of issubdtype from `float` to `np.floating` is deprecated. In future, it will be treated as `np.float64 == np.dtype(float).type`.\n",
      "  from ._conv import register_converters as _register_converters\n"
     ]
    },
    {
     "name": "stdout",
     "output_type": "stream",
     "text": [
      "1.9.0\n"
     ]
    }
   ],
   "source": [
    "from __future__ import absolute_import, division, print_function\n",
    "\n",
    "import tensorflow as tf\n",
    "from tensorflow import keras\n",
    "\n",
    "import numpy as np\n",
    "\n",
    "print(tf.__version__)"
   ]
  },
  {
   "cell_type": "code",
   "execution_count": 2,
   "metadata": {},
   "outputs": [],
   "source": [
    "imdb = keras.datasets.imdb\n",
    "\n",
    "(train_data, train_labels), (test_data, test_labels) = imdb.load_data(num_words=10000)"
   ]
  },
  {
   "cell_type": "code",
   "execution_count": 3,
   "metadata": {},
   "outputs": [],
   "source": [
    "# A dictionary mapping words to an integer index\n",
    "word_index = imdb.get_word_index()\n",
    "\n",
    "# The first indices are reserved\n",
    "word_index = {k:(v+3) for k,v in word_index.items()} \n",
    "word_index[\"<PAD>\"] = 0\n",
    "word_index[\"<START>\"] = 1\n",
    "word_index[\"<UNK>\"] = 2  # unknown\n",
    "word_index[\"<UNUSED>\"] = 3\n",
    "\n",
    "reverse_word_index = dict([(value, key) for (key, value) in word_index.items()])\n",
    "\n",
    "def decode_review(text):\n",
    "    return ' '.join([reverse_word_index.get(i, '?') for i in text])"
   ]
  },
  {
   "cell_type": "code",
   "execution_count": 4,
   "metadata": {},
   "outputs": [
    {
     "data": {
      "text/plain": [
       "\"<START> this film was just brilliant casting location scenery story direction everyone's really suited the part they played and you could just imagine being there robert <UNK> is an amazing actor and now the same being director <UNK> father came from the same scottish island as myself so i loved the fact there was a real connection with this film the witty remarks throughout the film were great it was just brilliant so much that i bought the film as soon as it was released for <UNK> and would recommend it to everyone to watch and the fly fishing was amazing really cried at the end it was so sad and you know what they say if you cry at a film it must have been good and this definitely was also <UNK> to the two little boy's that played the <UNK> of norman and paul they were just brilliant children are often left out of the <UNK> list i think because the stars that play them all grown up are such a big profile for the whole film but these children are amazing and should be praised for what they have done don't you think the whole story was so lovely because it was true and was someone's life after all that was shared with us all\""
      ]
     },
     "execution_count": 4,
     "metadata": {},
     "output_type": "execute_result"
    }
   ],
   "source": [
    "decode_review(train_data[0])"
   ]
  },
  {
   "cell_type": "code",
   "execution_count": 5,
   "metadata": {},
   "outputs": [],
   "source": [
    "train_data = keras.preprocessing.sequence.pad_sequences(train_data,\n",
    "                                                        value=word_index[\"<PAD>\"],\n",
    "                                                        padding='post',\n",
    "                                                        maxlen=256)\n",
    "\n",
    "test_data = keras.preprocessing.sequence.pad_sequences(test_data,\n",
    "                                                       value=word_index[\"<PAD>\"],\n",
    "                                                       padding='post',\n",
    "                                                       maxlen=256)"
   ]
  },
  {
   "cell_type": "code",
   "execution_count": 6,
   "metadata": {},
   "outputs": [
    {
     "name": "stdout",
     "output_type": "stream",
     "text": [
      "_________________________________________________________________\n",
      "Layer (type)                 Output Shape              Param #   \n",
      "=================================================================\n",
      "embedding (Embedding)        (None, None, 16)          160000    \n",
      "_________________________________________________________________\n",
      "global_average_pooling1d (Gl (None, 16)                0         \n",
      "_________________________________________________________________\n",
      "dense (Dense)                (None, 16)                272       \n",
      "_________________________________________________________________\n",
      "dense_1 (Dense)              (None, 1)                 17        \n",
      "=================================================================\n",
      "Total params: 160,289\n",
      "Trainable params: 160,289\n",
      "Non-trainable params: 0\n",
      "_________________________________________________________________\n"
     ]
    }
   ],
   "source": [
    "vocab_size = 10000\n",
    "\n",
    "model = keras.Sequential()\n",
    "model.add(keras.layers.Embedding(vocab_size, 16))\n",
    "model.add(keras.layers.GlobalAveragePooling1D())\n",
    "model.add(keras.layers.Dense(16, activation=tf.nn.relu))\n",
    "model.add(keras.layers.Dense(1, activation=tf.nn.sigmoid))\n",
    "\n",
    "model.summary()"
   ]
  },
  {
   "cell_type": "code",
   "execution_count": 7,
   "metadata": {},
   "outputs": [],
   "source": [
    "model.compile(optimizer='adam',\n",
    "              loss='binary_crossentropy',\n",
    "              metrics=['accuracy'])"
   ]
  },
  {
   "cell_type": "code",
   "execution_count": 8,
   "metadata": {},
   "outputs": [],
   "source": [
    "x_val = train_data[:10000]\n",
    "partial_x_train = train_data[10000:]\n",
    "\n",
    "y_val = train_labels[:10000]\n",
    "partial_y_train = train_labels[10000:]"
   ]
  },
  {
   "cell_type": "code",
   "execution_count": 9,
   "metadata": {},
   "outputs": [
    {
     "name": "stderr",
     "output_type": "stream",
     "text": [
      "C:\\Users\\d.padmanabhan.menon\\AppData\\Local\\Continuum\\anaconda3\\lib\\site-packages\\tensorflow\\python\\ops\\gradients_impl.py:100: UserWarning: Converting sparse IndexedSlices to a dense Tensor of unknown shape. This may consume a large amount of memory.\n",
      "  \"Converting sparse IndexedSlices to a dense Tensor of unknown shape. \"\n"
     ]
    },
    {
     "name": "stdout",
     "output_type": "stream",
     "text": [
      "Train on 15000 samples, validate on 10000 samples\n",
      "Epoch 1/40\n",
      "15000/15000 [==============================] - 4s 295us/step - loss: 0.6923 - acc: 0.5172 - val_loss: 0.6910 - val_acc: 0.5356\n",
      "Epoch 2/40\n",
      "15000/15000 [==============================] - 3s 188us/step - loss: 0.6894 - acc: 0.5566 - val_loss: 0.6879 - val_acc: 0.5941\n",
      "Epoch 3/40\n",
      "15000/15000 [==============================] - 3s 176us/step - loss: 0.6859 - acc: 0.6095 - val_loss: 0.6847 - val_acc: 0.6465\n",
      "Epoch 4/40\n",
      "15000/15000 [==============================] - 2s 157us/step - loss: 0.6816 - acc: 0.6411 - val_loss: 0.6814 - val_acc: 0.5653\n",
      "Epoch 5/40\n",
      "15000/15000 [==============================] - 3s 174us/step - loss: 0.6760 - acc: 0.6803 - val_loss: 0.6740 - val_acc: 0.6995\n",
      "Epoch 6/40\n",
      "15000/15000 [==============================] - 3s 168us/step - loss: 0.6682 - acc: 0.7131 - val_loss: 0.6656 - val_acc: 0.6997\n",
      "Epoch 7/40\n",
      "15000/15000 [==============================] - 2s 156us/step - loss: 0.6574 - acc: 0.7305 - val_loss: 0.6546 - val_acc: 0.7259\n",
      "Epoch 8/40\n",
      "15000/15000 [==============================] - 2s 156us/step - loss: 0.6433 - acc: 0.7459 - val_loss: 0.6405 - val_acc: 0.7409\n",
      "Epoch 9/40\n",
      "15000/15000 [==============================] - 2s 151us/step - loss: 0.6261 - acc: 0.7524 - val_loss: 0.6224 - val_acc: 0.7458\n",
      "Epoch 10/40\n",
      "15000/15000 [==============================] - 2s 155us/step - loss: 0.6047 - acc: 0.7740 - val_loss: 0.6016 - val_acc: 0.7589\n",
      "Epoch 11/40\n",
      "15000/15000 [==============================] - 2s 162us/step - loss: 0.5807 - acc: 0.7749 - val_loss: 0.5814 - val_acc: 0.7613\n",
      "Epoch 12/40\n",
      "15000/15000 [==============================] - 2s 155us/step - loss: 0.5548 - acc: 0.7899 - val_loss: 0.5541 - val_acc: 0.7840\n",
      "Epoch 13/40\n",
      "15000/15000 [==============================] - 2s 150us/step - loss: 0.5263 - acc: 0.8099 - val_loss: 0.5297 - val_acc: 0.7979\n",
      "Epoch 14/40\n",
      "15000/15000 [==============================] - 2s 160us/step - loss: 0.4987 - acc: 0.8195 - val_loss: 0.5047 - val_acc: 0.8089\n",
      "Epoch 15/40\n",
      "15000/15000 [==============================] - 2s 150us/step - loss: 0.4713 - acc: 0.8323 - val_loss: 0.4803 - val_acc: 0.8156\n",
      "Epoch 16/40\n",
      "15000/15000 [==============================] - 2s 161us/step - loss: 0.4457 - acc: 0.8435 - val_loss: 0.4577 - val_acc: 0.8277\n",
      "Epoch 17/40\n",
      "15000/15000 [==============================] - 2s 158us/step - loss: 0.4204 - acc: 0.8555 - val_loss: 0.4372 - val_acc: 0.8356\n",
      "Epoch 18/40\n",
      "15000/15000 [==============================] - 2s 166us/step - loss: 0.3978 - acc: 0.8636 - val_loss: 0.4184 - val_acc: 0.8420\n",
      "Epoch 19/40\n",
      "15000/15000 [==============================] - 3s 182us/step - loss: 0.3776 - acc: 0.8703 - val_loss: 0.4020 - val_acc: 0.8484\n",
      "Epoch 20/40\n",
      "15000/15000 [==============================] - 3s 171us/step - loss: 0.3592 - acc: 0.8763 - val_loss: 0.3876 - val_acc: 0.8533\n",
      "Epoch 21/40\n",
      "15000/15000 [==============================] - 3s 179us/step - loss: 0.3427 - acc: 0.8813 - val_loss: 0.3750 - val_acc: 0.8563\n",
      "Epoch 22/40\n",
      "15000/15000 [==============================] - 3s 174us/step - loss: 0.3277 - acc: 0.8872 - val_loss: 0.3640 - val_acc: 0.8598\n",
      "Epoch 23/40\n",
      "15000/15000 [==============================] - 3s 169us/step - loss: 0.3147 - acc: 0.8908 - val_loss: 0.3550 - val_acc: 0.8625\n",
      "Epoch 24/40\n",
      "15000/15000 [==============================] - 3s 172us/step - loss: 0.3022 - acc: 0.8951 - val_loss: 0.3462 - val_acc: 0.8648\n",
      "Epoch 25/40\n",
      "15000/15000 [==============================] - 3s 168us/step - loss: 0.2911 - acc: 0.8989 - val_loss: 0.3388 - val_acc: 0.8672\n",
      "Epoch 26/40\n",
      "15000/15000 [==============================] - 2s 160us/step - loss: 0.2808 - acc: 0.9013 - val_loss: 0.3327 - val_acc: 0.8704\n",
      "Epoch 27/40\n",
      "15000/15000 [==============================] - 2s 154us/step - loss: 0.2717 - acc: 0.9028 - val_loss: 0.3269 - val_acc: 0.8708\n",
      "Epoch 28/40\n",
      "15000/15000 [==============================] - 3s 175us/step - loss: 0.2625 - acc: 0.9075 - val_loss: 0.3214 - val_acc: 0.8738\n",
      "Epoch 29/40\n",
      "15000/15000 [==============================] - 2s 159us/step - loss: 0.2544 - acc: 0.9097 - val_loss: 0.3174 - val_acc: 0.8743\n",
      "Epoch 30/40\n",
      "15000/15000 [==============================] - 2s 166us/step - loss: 0.2477 - acc: 0.9115 - val_loss: 0.3130 - val_acc: 0.8762\n",
      "Epoch 31/40\n",
      "15000/15000 [==============================] - 2s 160us/step - loss: 0.2394 - acc: 0.9155 - val_loss: 0.3096 - val_acc: 0.8768\n",
      "Epoch 32/40\n",
      "15000/15000 [==============================] - 2s 154us/step - loss: 0.2333 - acc: 0.9178 - val_loss: 0.3065 - val_acc: 0.8772\n",
      "Epoch 33/40\n",
      "15000/15000 [==============================] - 2s 163us/step - loss: 0.2260 - acc: 0.9207 - val_loss: 0.3037 - val_acc: 0.8770\n",
      "Epoch 34/40\n",
      "15000/15000 [==============================] - 2s 162us/step - loss: 0.2200 - acc: 0.9237 - val_loss: 0.3017 - val_acc: 0.8791\n",
      "Epoch 35/40\n",
      "15000/15000 [==============================] - 2s 162us/step - loss: 0.2147 - acc: 0.9235 - val_loss: 0.2990 - val_acc: 0.8794\n",
      "Epoch 36/40\n",
      "15000/15000 [==============================] - 2s 160us/step - loss: 0.2085 - acc: 0.9270 - val_loss: 0.2972 - val_acc: 0.8808\n",
      "Epoch 37/40\n",
      "15000/15000 [==============================] - 2s 154us/step - loss: 0.2031 - acc: 0.9290 - val_loss: 0.2955 - val_acc: 0.8820\n",
      "Epoch 38/40\n",
      "15000/15000 [==============================] - 3s 168us/step - loss: 0.1982 - acc: 0.9302 - val_loss: 0.2940 - val_acc: 0.8823\n",
      "Epoch 39/40\n",
      "15000/15000 [==============================] - 3s 199us/step - loss: 0.1928 - acc: 0.9337 - val_loss: 0.2925 - val_acc: 0.8831\n",
      "Epoch 40/40\n",
      "15000/15000 [==============================] - 2s 151us/step - loss: 0.1881 - acc: 0.9355 - val_loss: 0.2914 - val_acc: 0.8827\n"
     ]
    }
   ],
   "source": [
    "history = model.fit(partial_x_train,\n",
    "                    partial_y_train,\n",
    "                    epochs=40,\n",
    "                    batch_size=512,\n",
    "                    validation_data=(x_val, y_val),\n",
    "                    verbose=1)"
   ]
  },
  {
   "cell_type": "code",
   "execution_count": 10,
   "metadata": {},
   "outputs": [
    {
     "name": "stdout",
     "output_type": "stream",
     "text": [
      "25000/25000 [==============================] - 3s 106us/step\n",
      "[0.30414382816314695, 0.87616]\n"
     ]
    }
   ],
   "source": [
    "results = model.evaluate(test_data, test_labels)\n",
    "\n",
    "print(results)"
   ]
  },
  {
   "cell_type": "code",
   "execution_count": 11,
   "metadata": {},
   "outputs": [
    {
     "data": {
      "text/plain": [
       "dict_keys(['val_loss', 'val_acc', 'loss', 'acc'])"
      ]
     },
     "execution_count": 11,
     "metadata": {},
     "output_type": "execute_result"
    }
   ],
   "source": [
    "history_dict = history.history\n",
    "history_dict.keys()"
   ]
  },
  {
   "cell_type": "code",
   "execution_count": 14,
   "metadata": {},
   "outputs": [
    {
     "data": {
      "image/png": "[encoded data removed]",
      "text/plain": [
       "<Figure size 432x288 with 1 Axes>"
      ]
     },
     "metadata": {
      "needs_background": "light"
     },
     "output_type": "display_data"
    }
   ],
   "source": [
    "import matplotlib.pyplot as plt\n",
    "\n",
    "acc = history_dict['acc']\n",
    "val_acc = history_dict['val_acc']\n",
    "loss = history_dict['loss']\n",
    "val_loss = history_dict['val_loss']\n",
    "\n",
    "epochs = range(1, len(acc) + 1)\n",
    "\n",
    "# \"bo\" is for \"blue dot\"\n",
    "plt.plot(epochs, loss, 'bo', label='Training loss')\n",
    "# b is for \"solid blue line\"\n",
    "plt.plot(epochs, val_loss, 'b', label='Validation loss')\n",
    "plt.title('Training and validation loss')\n",
    "plt.xlabel('Epochs')\n",
    "plt.ylabel('Loss')\n",
    "plt.legend()\n",
    "\n",
    "plt.show()"
   ]
  },
  {
   "cell_type": "code",
   "execution_count": 13,
   "metadata": {},
   "outputs": [
    {
     "data": {
      "image/png": "[encoded data removed]",
      "text/plain": [
       "<Figure size 432x288 with 1 Axes>"
      ]
     },
     "metadata": {
      "needs_background": "light"
     },
     "output_type": "display_data"
    }
   ],
   "source": [
    "plt.clf()   # clear figure\n",
    "\n",
    "plt.plot(epochs, acc, 'bo', label='Training acc')\n",
    "plt.plot(epochs, val_acc, 'b', label='Validation acc')\n",
    "plt.title('Training and validation accuracy')\n",
    "plt.xlabel('Epochs')\n",
    "plt.ylabel('Accuracy')\n",
    "plt.legend()\n",
    "\n",
    "plt.show()\n",
    "\n"
   ]
  },
  {
   "cell_type": "code",
   "execution_count": null,
   "metadata": {},
   "outputs": [],
   "source": []
  }
 ],
 "metadata": {
  "kernelspec": {
   "display_name": "Python 3",
   "language": "python",
   "name": "python3"
  },
  "language_info": {
   "codemirror_mode": {
    "name": "ipython",
    "version": 3
   },
   "file_extension": ".py",
   "mimetype": "text/x-python",
   "name": "python",
   "nbconvert_exporter": "python",
   "pygments_lexer": "ipython3",
   "version": "3.6.4"
  }
 },
 "nbformat": 4,
 "nbformat_minor": 2
}
